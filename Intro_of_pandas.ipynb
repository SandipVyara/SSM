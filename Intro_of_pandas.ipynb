{
  "nbformat": 4,
  "nbformat_minor": 0,
  "metadata": {
    "colab": {
      "name": "Intro of pandas.ipynb",
      "provenance": [],
      "collapsed_sections": [],
      "authorship_tag": "ABX9TyP89Dr541Vgs3h6KjFRfvnV",
      "include_colab_link": true
    },
    "kernelspec": {
      "name": "python3",
      "display_name": "Python 3"
    }
  },
  "cells": [
    {
      "cell_type": "markdown",
      "metadata": {
        "id": "view-in-github",
        "colab_type": "text"
      },
      "source": [
        "<a href=\"https://colab.research.google.com/github/SandipVyara/SSM/blob/main/Intro_of_pandas.ipynb\" target=\"_parent\"><img src=\"https://colab.research.google.com/assets/colab-badge.svg\" alt=\"Open In Colab\"/></a>"
      ]
    },
    {
      "cell_type": "code",
      "metadata": {
        "id": "UO4LEdP1I-Jr"
      },
      "source": [
        "import pandas as pd"
      ],
      "execution_count": 8,
      "outputs": []
    },
    {
      "cell_type": "code",
      "metadata": {
        "id": "btDTrspRKgmP",
        "outputId": "b982b0af-4c7c-4e97-e5e8-d189bcb720aa",
        "colab": {
          "base_uri": "https://localhost:8080/",
          "height": 129
        }
      },
      "source": [
        "##Problem 1 statement \n",
        " #Given a series of revenues and expenses,analyze the profits.\n",
        "\n",
        " daily_revenues = [20,22,34,31,30,22,40,41]\n",
        " \n",
        " daily_expenses = [10,12,14,21,40,2,10,14]\n",
        "\n",
        "\n",
        "sr_daily_revenues =pd.Series(daily_revenues)\n",
        "sr_daily_expenses =pd.Series(daily_expenses)\n",
        "\n",
        "sr_daily_revenues \n",
        "\n",
        "df_daily_revenues_and_expenses = pd.Dataframes({'daily_revenues':sr_daily_revenues,\n",
        "                                                'daily_expenses':sr_daily_expenses})\n",
        "df_daily_revenues_and_expenses\n",
        "\n",
        "df_daily_revenues_and_expenses.shape\n",
        "\n",
        "df_daily_revenues_and_expenses.info()\n",
        "\n",
        "df_daily_revenues_and_expenses.head()\n",
        "\n",
        "df_daily_revenues_and_expenses.tail              # last 5 records\n",
        "\n",
        "df_daily_revenues_and_expenses.nunique()\n",
        "\n",
        "df_daily_revenues_and_expenses.describe()       # summary statics of each count\n",
        "\n",
        "df_daily_revenues_and_expenses.daily_profit.value_counts()\n",
        "\n",
        "df_daily_revenues_and_expenses.daily_profit.hist()\n",
        "\n"
      ],
      "execution_count": 4,
      "outputs": [
        {
          "output_type": "error",
          "ename": "IndentationError",
          "evalue": "ignored",
          "traceback": [
            "\u001b[0;36m  File \u001b[0;32m\"<ipython-input-4-a93b45a5230f>\"\u001b[0;36m, line \u001b[0;32m4\u001b[0m\n\u001b[0;31m    daily_revenues = [20,22,34,31,30,22,40,41]\u001b[0m\n\u001b[0m    ^\u001b[0m\n\u001b[0;31mIndentationError\u001b[0m\u001b[0;31m:\u001b[0m unexpected indent\n"
          ]
        }
      ]
    },
    {
      "cell_type": "code",
      "metadata": {
        "id": "Ruj6toOdRQ6R",
        "outputId": "62e54cfb-6105-4974-faff-c12de75cfc92",
        "colab": {
          "base_uri": "https://localhost:8080/",
          "height": 231
        }
      },
      "source": [
        "##Problem 2 Statement\n",
        " # Explore and understand the data from the last 5 batches of students.\n",
        "\n",
        "file_path = '../data/demo1_historic.csv'\n",
        "df_student_historic_data.head ()\n",
        "\n",
        "df_student_historic_data.info()\n",
        "\n",
        "df_student_historic_data.nunique()\n",
        "\n",
        "df_student_historic_data.describe()\n",
        "\n",
        "df_student_historic_data.hist(figsize=(16,12))\n",
        "\n",
        "df_student_historic_data.corr()          #correlation \n",
        "\n",
        "df_slice_1 = df_student_historic_data.iloc[1:3,0:4]\n",
        "df_slice_1\n",
        "\n",
        "type (df_student_historic_data)\n",
        "\n",
        "type (df_slice_1)\n",
        "\n",
        "df_slice_1.iloc[0 , 1] += 10\n",
        "df_slice_1\n",
        "\n",
        "df_student_historic_data.iloc[1:3,0:4]\n",
        "\n",
        "\n",
        "\n",
        "\n"
      ],
      "execution_count": 7,
      "outputs": [
        {
          "output_type": "error",
          "ename": "NameError",
          "evalue": "ignored",
          "traceback": [
            "\u001b[0;31m---------------------------------------------------------------------------\u001b[0m",
            "\u001b[0;31mNameError\u001b[0m                                 Traceback (most recent call last)",
            "\u001b[0;32m<ipython-input-7-d904739e47a7>\u001b[0m in \u001b[0;36m<module>\u001b[0;34m()\u001b[0m\n\u001b[1;32m      3\u001b[0m \u001b[0;34m\u001b[0m\u001b[0m\n\u001b[1;32m      4\u001b[0m \u001b[0mfile_path\u001b[0m \u001b[0;34m=\u001b[0m \u001b[0;34m'../data/demo1_historic.csv'\u001b[0m\u001b[0;34m\u001b[0m\u001b[0;34m\u001b[0m\u001b[0m\n\u001b[0;32m----> 5\u001b[0;31m \u001b[0mdf_student_historic_data\u001b[0m\u001b[0;34m.\u001b[0m\u001b[0mhead\u001b[0m \u001b[0;34m(\u001b[0m\u001b[0;34m)\u001b[0m\u001b[0;34m\u001b[0m\u001b[0;34m\u001b[0m\u001b[0m\n\u001b[0m\u001b[1;32m      6\u001b[0m \u001b[0;34m\u001b[0m\u001b[0m\n\u001b[1;32m      7\u001b[0m \u001b[0mdf_student_historic_data\u001b[0m\u001b[0;34m.\u001b[0m\u001b[0minfo\u001b[0m\u001b[0;34m(\u001b[0m\u001b[0;34m)\u001b[0m\u001b[0;34m\u001b[0m\u001b[0;34m\u001b[0m\u001b[0m\n",
            "\u001b[0;31mNameError\u001b[0m: name 'df_student_historic_data' is not defined"
          ]
        }
      ]
    },
    {
      "cell_type": "code",
      "metadata": {
        "id": "r56tDb-ZL9KG"
      },
      "source": [
        ""
      ],
      "execution_count": null,
      "outputs": []
    }
  ]
}