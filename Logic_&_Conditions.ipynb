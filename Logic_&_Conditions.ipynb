{
  "nbformat": 4,
  "nbformat_minor": 0,
  "metadata": {
    "colab": {
      "name": "Logic & Conditions.ipynb",
      "provenance": [],
      "collapsed_sections": [],
      "authorship_tag": "ABX9TyODjSW3zrnjYpbjLL1V4w6G",
      "include_colab_link": true
    },
    "kernelspec": {
      "name": "python3",
      "display_name": "Python 3"
    }
  },
  "cells": [
    {
      "cell_type": "markdown",
      "metadata": {
        "id": "view-in-github",
        "colab_type": "text"
      },
      "source": [
        "<a href=\"https://colab.research.google.com/github/SandipVyara/SSM/blob/main/Logic_%26_Conditions.ipynb\" target=\"_parent\"><img src=\"https://colab.research.google.com/assets/colab-badge.svg\" alt=\"Open In Colab\"/></a>"
      ]
    },
    {
      "cell_type": "code",
      "metadata": {
        "id": "xQdnfzN6xhGA",
        "outputId": "0849b1a7-9d3b-4df4-d677-7e819ff6f071",
        "colab": {
          "base_uri": "https://localhost:8080/",
          "height": 129
        }
      },
      "source": [
        "#logic & condition operator\n",
        "num =3\n",
        " if num > 0:\n",
        "    print (num,\"is a positive number.\")\n",
        "    print (this is always printed.\")\n",
        "\n",
        "    num = -1:\n",
        " if num > 0:   \n",
        "    print (num,\"is a positive number.\")\n",
        "    print (\"this is also always printed\")\n"
      ],
      "execution_count": 1,
      "outputs": [
        {
          "output_type": "error",
          "ename": "IndentationError",
          "evalue": "ignored",
          "traceback": [
            "\u001b[0;36m  File \u001b[0;32m\"<ipython-input-1-65696d0739ae>\"\u001b[0;36m, line \u001b[0;32m3\u001b[0m\n\u001b[0;31m    if num > 0:\u001b[0m\n\u001b[0m    ^\u001b[0m\n\u001b[0;31mIndentationError\u001b[0m\u001b[0;31m:\u001b[0m unexpected indent\n"
          ]
        }
      ]
    },
    {
      "cell_type": "code",
      "metadata": {
        "id": "9w7HyNlp3IV5"
      },
      "source": [
        "age = int (input (\"Enter your Age:\"))\n",
        "\n",
        "if age >= 18:\n",
        "  Print (\"You are Eligible\")\n",
        "  "
      ],
      "execution_count": null,
      "outputs": []
    },
    {
      "cell_type": "code",
      "metadata": {
        "id": "gYMLju693i8L"
      },
      "source": [
        "#Program checks if the number is positive or negative\n",
        "#And displays an appropriate message\n",
        "\n",
        "num = 3\n",
        "# Try these two variations as well.\n",
        "num = -5\n",
        "num = 0\n",
        "if num >= 0:\n",
        "  Print (\"positive or zero\")\n",
        "  print (\" hi from sachin\")\n",
        "  else:\n",
        "  print(\"negative number\")"
      ],
      "execution_count": null,
      "outputs": []
    },
    {
      "cell_type": "code",
      "metadata": {
        "id": "GTpAtBKb6Q7z"
      },
      "source": [
        " num =3,4\n",
        "\n",
        " if num > 0:\n",
        "   Print (\"Positive number\")\n",
        "   elif num == 0:\n",
        "    Print (\"zero\") \n",
        "    else:\n",
        "    Print (\"Negative number\")"
      ],
      "execution_count": null,
      "outputs": []
    },
    {
      "cell_type": "code",
      "metadata": {
        "id": "U_F2OswE67qN"
      },
      "source": [
        "'''In this program, we inpt a number\n",
        "check if the number is positive or\n",
        "negative or zero and display\n",
        "an appropriate message\n",
        "This time we use nested if statement'''\n",
        "\n",
        "num = float (input(\"Enter a number\"))\n",
        "if num > 0:\n",
        "   Print (\"Positive number\")\n",
        "   elif num == 0:\n",
        "    Print (\"zero\") \n",
        "    else:\n",
        "    Print (\"Negative number\")"
      ],
      "execution_count": null,
      "outputs": []
    },
    {
      "cell_type": "code",
      "metadata": {
        "id": "Swwc7RM4AVVk"
      },
      "source": [
        "'''In this program, we inpt a number\n",
        "check if the number is positive or\n",
        "negative or zero and display\n",
        "an appropriate message\n",
        "This time we use nested if statement'''\n",
        "\n",
        "num = float (input(\"Enter a number\"))\n",
        "if num = 2:\n",
        "   num = -3:\n",
        "   Print (\"Positive number\")\n",
        "   elif num == 0:\n",
        "    Print (\"zero\") \n",
        "    else:\n",
        "    Print (\"Negative number\")"
      ],
      "execution_count": null,
      "outputs": []
    },
    {
      "cell_type": "code",
      "metadata": {
        "id": "SEU_j7Ew72oS"
      },
      "source": [
        "database ={\n",
        "    1001: {\n",
        "        'name' : 'sachin',\n",
        "        'Age' : 22,\n",
        "        'email' : 'eddygrant000@gmail.com',\n",
        "        'password' : 'red@123',\n",
        "    }\n",
        "    1002: {\n",
        "        'name' : 'Tanuj',\n",
        "        'Age' : 25,\n",
        "        'email' : 'tanuj@gmail.com',\n",
        "        'password' : 'tanu123',\n",
        "}\n",
        "}"
      ],
      "execution_count": null,
      "outputs": []
    },
    {
      "cell_type": "code",
      "metadata": {
        "id": "A_4hgQyk9Jtk"
      },
      "source": [
        "account = int (input(\"Enter account number:\"))\n",
        "password = input(\"Enter Password: \")\n",
        "\n",
        "if account in database .keys():\n",
        "   if passwd == database[account]['password']:\n",
        "     print (f\"login success\\nwelcome {database[account]['name]}\")\n",
        "     print(\"login Success\")\n",
        "     else:\n",
        "        print(\"password Failed\")\n",
        "        else:\n",
        "          print(\"Account is Not Exist\")"
      ],
      "execution_count": null,
      "outputs": []
    },
    {
      "cell_type": "code",
      "metadata": {
        "id": "k_jJybjT_vO4"
      },
      "source": [
        "database ={\n",
        "    1001: {\n",
        "        'name' : 'sachin',\n",
        "        'Age' : 22,\n",
        "        'email' : 'eddygrant000@gmail.com',\n",
        "        'password' : 'red@123',\n",
        "    }\n",
        "    1002: {\n",
        "        'name' : 'Tanuj',\n",
        "        'Age' : 25,\n",
        "        'email' : 'tanuj@gmail.com',\n",
        "        'password' : 'tanu123',\n",
        "    }\n",
        "}\n",
        "account = int (input(\"Enter account number:\"))\n",
        "password = input(\"Enter Password: \")\n",
        "\n",
        "if account in database .keys():\n",
        "   if passwd == database[account]['password']:\n",
        "     print (f\"login success\\nwelcome {database[1001]['name]}\")\n",
        "     else:\n",
        "        print(\"password Failed\")\n",
        "        else:\n",
        "          print(\"Account is Not Exist\")"
      ],
      "execution_count": null,
      "outputs": []
    }
  ]
}