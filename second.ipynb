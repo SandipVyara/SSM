{
  "nbformat": 4,
  "nbformat_minor": 0,
  "metadata": {
    "colab": {
      "name": "Copy of Untitled5.ipynb",
      "provenance": [],
      "collapsed_sections": [],
      "authorship_tag": "ABX9TyO2zA6ClaWdPxaRDXSpMkqS",
      "include_colab_link": true
    },
    "kernelspec": {
      "name": "python3",
      "display_name": "Python 3"
    }
  },
  "cells": [
    {
      "cell_type": "markdown",
      "metadata": {
        "id": "view-in-github",
        "colab_type": "text"
      },
      "source": [
        "<a href=\"https://colab.research.google.com/github/SandipVyara/SSM/blob/main/second.ipynb\" target=\"_parent\"><img src=\"https://colab.research.google.com/assets/colab-badge.svg\" alt=\"Open In Colab\"/></a>"
      ]
    },
    {
      "cell_type": "code",
      "metadata": {
        "id": "1VwgmQLjbepZ",
        "outputId": "b45418ac-e3ae-4577-b251-c4326d8cc583",
        "colab": {
          "base_uri": "https://localhost:8080/",
          "height": 51
        }
      },
      "source": [
        "# my program\n",
        "First_List=[1,3,5,7,9]\n",
        "Second_List=[2,4,6,8,10]\n",
        "\n",
        "\n",
        "print(First_List)\n",
        "print(Second_List)\n"
      ],
      "execution_count": null,
      "outputs": [
        {
          "output_type": "stream",
          "text": [
            "[1, 3, 5, 7, 9]\n",
            "[2, 4, 6, 8, 10]\n"
          ],
          "name": "stdout"
        }
      ]
    },
    {
      "cell_type": "code",
      "metadata": {
        "id": "o7eVNAq7k-U1",
        "outputId": "426313d5-004b-4963-bfc1-f99cbe2f4aee",
        "colab": {
          "base_uri": "https://localhost:8080/",
          "height": 34
        }
      },
      "source": [
        "# largest number in a list1 is\n",
        "print('The largest number from First_List is:',max(First_List))\n",
        "\n",
        "\n"
      ],
      "execution_count": null,
      "outputs": [
        {
          "output_type": "stream",
          "text": [
            "The largest number from First_List is: 9\n"
          ],
          "name": "stdout"
        }
      ]
    },
    {
      "cell_type": "code",
      "metadata": {
        "id": "Mgb1V9fNow_F",
        "outputId": "99464007-cb90-4a6f-eecf-7552bff48b4a",
        "colab": {
          "base_uri": "https://localhost:8080/",
          "height": 34
        }
      },
      "source": [
        "# Second largest number in a list1 is\n",
        "print('The second largest number from First_List is:',max(First_List))\n"
      ],
      "execution_count": null,
      "outputs": [
        {
          "output_type": "stream",
          "text": [
            "The second largest number from First_List is: 9\n"
          ],
          "name": "stdout"
        }
      ]
    },
    {
      "cell_type": "code",
      "metadata": {
        "id": "6S6messdpEPZ"
      },
      "source": [
        "# To merge two lists & sort it\n",
        "list1 = [25, 18, 9, 41, 26, 31] \n",
        "list2 = [25, 45, 3, 32, 15, 20] \n",
        "print(Merge(list1, list2)) \n",
        "\n",
        "\n"
      ],
      "execution_count": null,
      "outputs": []
    },
    {
      "cell_type": "code",
      "metadata": {
        "id": "lZF8CGVtjPOf"
      },
      "source": [
        "x = 10\n",
        "y = 50\n",
        "if (x ** 2 > 100 and y < 100):\n",
        "    print(x, y)"
      ],
      "execution_count": null,
      "outputs": []
    },
    {
      "cell_type": "code",
      "metadata": {
        "id": "gXxaqrLGjhhR",
        "outputId": "72b58dcc-4c4c-4d1f-f60a-482759fffa92",
        "colab": {
          "base_uri": "https://localhost:8080/",
          "height": 34
        }
      },
      "source": [
        "print(2%6)"
      ],
      "execution_count": null,
      "outputs": [
        {
          "output_type": "stream",
          "text": [
            "2\n"
          ],
          "name": "stdout"
        }
      ]
    },
    {
      "cell_type": "code",
      "metadata": {
        "id": "FiRU7Uidju9E"
      },
      "source": [
        "e = 10\n",
        "d = e += 2\n",
        "print(d)"
      ],
      "execution_count": null,
      "outputs": []
    },
    {
      "cell_type": "code",
      "metadata": {
        "id": "Zg7vP9M5lbBZ",
        "outputId": "e55fc19d-1dc9-4ec1-e247-c304bddfed87",
        "colab": {
          "base_uri": "https://localhost:8080/",
          "height": 51
        }
      },
      "source": [
        "a = [10, 20]\n",
        "b = a\n",
        "b += [30, 40]\n",
        "print(a)\n",
        "print(b)"
      ],
      "execution_count": null,
      "outputs": [
        {
          "output_type": "stream",
          "text": [
            "[10, 20, 30, 40]\n",
            "[10, 20, 30, 40]\n"
          ],
          "name": "stdout"
        }
      ]
    }
  ]
}