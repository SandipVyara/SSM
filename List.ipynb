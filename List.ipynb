{
  "nbformat": 4,
  "nbformat_minor": 0,
  "metadata": {
    "colab": {
      "name": "Untitled5.ipynb",
      "provenance": [],
      "collapsed_sections": [],
      "authorship_tag": "ABX9TyOOQPEMFt/4BYaK2nKAEzDL",
      "include_colab_link": true
    },
    "kernelspec": {
      "name": "python3",
      "display_name": "Python 3"
    }
  },
  "cells": [
    {
      "cell_type": "markdown",
      "metadata": {
        "id": "view-in-github",
        "colab_type": "text"
      },
      "source": [
        "<a href=\"https://colab.research.google.com/github/SandipVyara/SSM/blob/main/List.ipynb\" target=\"_parent\"><img src=\"https://colab.research.google.com/assets/colab-badge.svg\" alt=\"Open In Colab\"/></a>"
      ]
    },
    {
      "cell_type": "code",
      "metadata": {
        "id": "1VwgmQLjbepZ",
        "outputId": "8ea2cafd-d8a3-43a2-debb-0414374f1d4a",
        "colab": {
          "base_uri": "https://localhost:8080/",
          "height": 51
        }
      },
      "source": [
        "# My Assignment program\n",
        "First_List=[1,3,5,7,9]\n",
        "Second_List=[2,4,6,8,10]\n",
        "\n",
        "\n",
        "print(First_List)\n",
        "print(Second_List)\n"
      ],
      "execution_count": 1,
      "outputs": [
        {
          "output_type": "stream",
          "text": [
            "[1, 3, 5, 7, 9]\n",
            "[2, 4, 6, 8, 10]\n"
          ],
          "name": "stdout"
        }
      ]
    },
    {
      "cell_type": "code",
      "metadata": {
        "id": "o7eVNAq7k-U1",
        "outputId": "59f50b56-d67b-4d0e-8b36-e6603defd771",
        "colab": {
          "base_uri": "https://localhost:8080/",
          "height": 34
        }
      },
      "source": [
        "# largest number in a First_List is\n",
        "print('The largest number from First_List is:',max(First_List))\n",
        "\n",
        "\n"
      ],
      "execution_count": 2,
      "outputs": [
        {
          "output_type": "stream",
          "text": [
            "The largest number from First_List is: 9\n"
          ],
          "name": "stdout"
        }
      ]
    },
    {
      "cell_type": "code",
      "metadata": {
        "id": "Mgb1V9fNow_F",
        "outputId": "ebad141a-1df7-4e69-caa7-ad9ec38fa6dd",
        "colab": {
          "base_uri": "https://localhost:8080/",
          "height": 34
        }
      },
      "source": [
        "# Second largest number in a First_list is\n",
        "\n",
        "print(\"Second largest number is:\",First_List[-2])\n"
      ],
      "execution_count": 3,
      "outputs": [
        {
          "output_type": "stream",
          "text": [
            "Second largest number is: 7\n"
          ],
          "name": "stdout"
        }
      ]
    },
    {
      "cell_type": "code",
      "metadata": {
        "id": "6S6messdpEPZ",
        "outputId": "f0bec136-eb0d-434b-9791-016f339681f0",
        "colab": {
          "base_uri": "https://localhost:8080/",
          "height": 34
        }
      },
      "source": [
        "# To merge two lists & sort it\n",
        "\n",
        "first_list = [25, 18, 9, 41, 26, 31] \n",
        "second_list = [25, 45, 3, 32, 15, 20] \n",
        "final_list = first_list + second_list\n",
        "#sort the final list\n",
        "final_list.sort()\n",
        "print(final_list)\n",
        "\n"
      ],
      "execution_count": 4,
      "outputs": [
        {
          "output_type": "stream",
          "text": [
            "[3, 9, 15, 18, 20, 25, 25, 26, 31, 32, 41, 45]\n"
          ],
          "name": "stdout"
        }
      ]
    },
    {
      "cell_type": "code",
      "metadata": {
        "id": "EoU77edYzMhU",
        "outputId": "c9c62317-1d1a-4f69-ada6-74ff6e3a9dec",
        "colab": {
          "base_uri": "https://localhost:8080/",
          "height": 34
        }
      },
      "source": [
        "# To Swap the first & last value of a first_list    \n",
        "def swapPositions(list, pos1, pos6): \n",
        "    list[pos1],list[pos6] = list[pos6],list[pos1] \n",
        "    return list\n",
        "first_list = [25, 18, 9, 41, 26, 31]\n",
        "pos1, pos2  = 1, 6\n",
        "print(swapPositions(first_list, pos1-1, pos2-1))"
      ],
      "execution_count": 5,
      "outputs": [
        {
          "output_type": "stream",
          "text": [
            "[31, 18, 9, 41, 26, 25]\n"
          ],
          "name": "stdout"
        }
      ]
    }
  ]
}