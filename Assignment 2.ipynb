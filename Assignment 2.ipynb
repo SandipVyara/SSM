{
 "cells": [
  {
   "cell_type": "markdown",
   "metadata": {},
   "source": [
    "## 2nd Assignment"
   ]
  },
  {
   "cell_type": "code",
   "execution_count": null,
   "metadata": {},
   "outputs": [],
   "source": [
    "database = {\n",
    "    eddygrant000:{\n",
    "        'name': 'Sachin',\n",
    "        'age': 22,\n",
    "        'email': 'eddygrant000@gmail.com',\n",
    "        'password': 'red@123',\n",
    "        'amount': 20000,\n",
    "    },\n",
    "    sachin000:{\n",
    "        'name': 'Tanuj',\n",
    "        'age': 25,\n",
    "        'email': 'tanuj@gmail.com',\n",
    "        'password': 'tanu123',\n",
    "         'amount': 10000\n",
    "    }\n",
    "}\n",
    "\n",
    "username = input(\"Enter account number: \"))\n",
    "passwd = input(\"Enter password: \")\n",
    "\n",
    "if username in database.keys():\n",
    "    if passwd == database[username]['password']:\n",
    "        print(f\"Login Success\\nWelcome {database[username]['name']}\")\n",
    "    else:\n",
    "        print(\"usename or passwd is incorrect\")"
   ]
  }
 ],
 "metadata": {
  "kernelspec": {
   "display_name": "Python 3",
   "language": "python",
   "name": "python3"
  },
  "language_info": {
   "codemirror_mode": {
    "name": "ipython",
    "version": 3
   },
   "file_extension": ".py",
   "mimetype": "text/x-python",
   "name": "python",
   "nbconvert_exporter": "python",
   "pygments_lexer": "ipython3",
   "version": "3.6.8"
  }
 },
 "nbformat": 4,
 "nbformat_minor": 4
}
