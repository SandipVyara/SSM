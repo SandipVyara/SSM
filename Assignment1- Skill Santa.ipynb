{
 "cells": [
  {
   "cell_type": "code",
   "execution_count": 1,
   "metadata": {},
   "outputs": [
    {
     "name": "stdout",
     "output_type": "stream",
     "text": [
      "[1, 3, 5, 7, 9]\n",
      "[2, 4, 6, 8, 10]\n"
     ]
    }
   ],
   "source": [
    "First_List=[1,3,5,7,9]\n",
    "Second_List=[2,4,6,8,10]\n",
    "\n",
    "\n",
    "print(First_List)\n",
    "print(Second_List)\n"
   ]
  },
  {
   "cell_type": "code",
   "execution_count": 2,
   "metadata": {},
   "outputs": [
    {
     "name": "stdout",
     "output_type": "stream",
     "text": [
      "The largest number from First_List is: 9\n"
     ]
    }
   ],
   "source": [
    "# largest number in a First_List is\n",
    "print('The largest number from First_List is:',max(First_List))"
   ]
  },
  {
   "cell_type": "code",
   "execution_count": 3,
   "metadata": {},
   "outputs": [
    {
     "name": "stdout",
     "output_type": "stream",
     "text": [
      "Second largest number is: 7\n"
     ]
    }
   ],
   "source": [
    "# Second largest number in a First_list is\n",
    "print(\"Second largest number is:\",First_List[-2])"
   ]
  },
  {
   "cell_type": "code",
   "execution_count": 4,
   "metadata": {},
   "outputs": [
    {
     "name": "stdout",
     "output_type": "stream",
     "text": [
      "[3, 9, 15, 18, 20, 25, 25, 26, 31, 32, 41, 45]\n"
     ]
    }
   ],
   "source": [
    "# To merge two lists & sort it\n",
    "\n",
    "first_list = [25, 18, 9, 41, 26, 31] \n",
    "second_list = [25, 45, 3, 32, 15, 20] \n",
    "final_list = first_list + second_list\n",
    "#sort the final list\n",
    "final_list.sort()\n",
    "print(final_list)"
   ]
  },
  {
   "cell_type": "code",
   "execution_count": 5,
   "metadata": {},
   "outputs": [
    {
     "name": "stdout",
     "output_type": "stream",
     "text": [
      "[31, 18, 9, 41, 26, 25]\n"
     ]
    }
   ],
   "source": [
    "# To Swap the first & last value of a first_list    \n",
    "def swapPositions(list, pos1, pos6): \n",
    "    list[pos1],list[pos6] = list[pos6],list[pos1] \n",
    "    return list\n",
    "first_list = [25, 18, 9, 41, 26, 31]\n",
    "pos1, pos2  = 1, 6\n",
    "print(swapPositions(first_list, pos1-1, pos2-1))"
   ]
  }
 ],
 "metadata": {
  "kernelspec": {
   "display_name": "Python 3",
   "language": "python",
   "name": "python3"
  },
  "language_info": {
   "codemirror_mode": {
    "name": "ipython",
    "version": 3
   },
   "file_extension": ".py",
   "mimetype": "text/x-python",
   "name": "python",
   "nbconvert_exporter": "python",
   "pygments_lexer": "ipython3",
   "version": "3.6.8"
  }
 },
 "nbformat": 4,
 "nbformat_minor": 4
}
